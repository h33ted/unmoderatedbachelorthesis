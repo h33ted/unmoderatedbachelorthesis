{
 "cells": [
  {
   "cell_type": "markdown",
   "source": [
    "# This notebook contains the visualisations of the data for the paper"
   ],
   "metadata": {
    "collapsed": false
   },
   "id": "bd4ab9c42d37fef1"
  },
  {
   "cell_type": "code",
   "execution_count": 3,
   "outputs": [],
   "source": [
    "# Importing the necessary libraries\n",
    "import matplotlib.pyplot as plt"
   ],
   "metadata": {
    "collapsed": false,
    "ExecuteTime": {
     "end_time": "2024-05-16T14:14:22.591614Z",
     "start_time": "2024-05-16T14:14:22.588772Z"
    }
   },
   "id": "d59f5735a3e7d508"
  },
  {
   "cell_type": "code",
   "execution_count": 2,
   "id": "initial_id",
   "metadata": {
    "collapsed": true,
    "ExecuteTime": {
     "end_time": "2024-05-26T13:14:11.593602Z",
     "start_time": "2024-05-26T13:14:11.560397Z"
    }
   },
   "outputs": [
    {
     "ename": "NameError",
     "evalue": "name 'plt' is not defined",
     "output_type": "error",
     "traceback": [
      "\u001B[0;31m---------------------------------------------------------------------------\u001B[0m",
      "\u001B[0;31mNameError\u001B[0m                                 Traceback (most recent call last)",
      "Cell \u001B[0;32mIn[2], line 27\u001B[0m\n\u001B[1;32m     23\u001B[0m news_ratio_a3 \u001B[38;5;241m=\u001B[39m productive_news_a3 \u001B[38;5;241m/\u001B[39m totalMessages\n\u001B[1;32m     26\u001B[0m \u001B[38;5;66;03m# Plotting the data\u001B[39;00m\n\u001B[0;32m---> 27\u001B[0m \u001B[43mplt\u001B[49m\u001B[38;5;241m.\u001B[39mplot([\u001B[38;5;124m\"\u001B[39m\u001B[38;5;124mA0\u001B[39m\u001B[38;5;124m\"\u001B[39m, \u001B[38;5;124m\"\u001B[39m\u001B[38;5;124mA1\u001B[39m\u001B[38;5;124m\"\u001B[39m, \u001B[38;5;124m\"\u001B[39m\u001B[38;5;124mA2\u001B[39m\u001B[38;5;124m\"\u001B[39m, \u001B[38;5;124m\"\u001B[39m\u001B[38;5;124mA3\u001B[39m\u001B[38;5;124m\"\u001B[39m], [productivity_ratio_a0, productivity_ratio_a1, productivity_ratio_a2, productivity_ratio_a3], label\u001B[38;5;241m=\u001B[39m\u001B[38;5;124m\"\u001B[39m\u001B[38;5;124mDirect Productivity\u001B[39m\u001B[38;5;124m\"\u001B[39m, color\u001B[38;5;241m=\u001B[39m\u001B[38;5;124m\"\u001B[39m\u001B[38;5;124m#FF6700\u001B[39m\u001B[38;5;124m\"\u001B[39m)\n\u001B[1;32m     28\u001B[0m plt\u001B[38;5;241m.\u001B[39mplot([\u001B[38;5;124m\"\u001B[39m\u001B[38;5;124mA0\u001B[39m\u001B[38;5;124m\"\u001B[39m, \u001B[38;5;124m\"\u001B[39m\u001B[38;5;124mA1\u001B[39m\u001B[38;5;124m\"\u001B[39m, \u001B[38;5;124m\"\u001B[39m\u001B[38;5;124mA2\u001B[39m\u001B[38;5;124m\"\u001B[39m, \u001B[38;5;124m\"\u001B[39m\u001B[38;5;124mA3\u001B[39m\u001B[38;5;124m\"\u001B[39m], [news_ratio_a0, news_ratio_a1, news_ratio_a2, news_ratio_a3], label\u001B[38;5;241m=\u001B[39m\u001B[38;5;124m\"\u001B[39m\u001B[38;5;124mSocially Important Systems Productivity\u001B[39m\u001B[38;5;124m\"\u001B[39m, color\u001B[38;5;241m=\u001B[39m\u001B[38;5;124m\"\u001B[39m\u001B[38;5;124m#004E98\u001B[39m\u001B[38;5;124m\"\u001B[39m)\n\u001B[1;32m     30\u001B[0m \u001B[38;5;66;03m# Adding labels and title\u001B[39;00m\n",
      "\u001B[0;31mNameError\u001B[0m: name 'plt' is not defined"
     ]
    }
   ],
   "source": [
    "# Visualising the productivity per moderation group\n",
    "totalMessages = 210\n",
    "\n",
    "# A_0 Data \n",
    "productive_group_a0 = 8 \n",
    "productive_news_a0 = 0\n",
    "productivity_ratio_a0 = productive_group_a0 / totalMessages\n",
    "news_ratio_a0 = productive_news_a0 / totalMessages\n",
    "# A_1 Data\n",
    "productive_group_a1 = 12 + 5 + 2 + 6 + 1 + 4 + 21  # Hand counting the intervals to avoid double counting\n",
    "productive_news_a1 = 18 + 21 + 3 + 8 + 1 +1 \n",
    "productivity_ratio_a1 = productive_group_a1 / totalMessages\n",
    "news_ratio_a1 = productive_news_a1 / totalMessages\n",
    "# A_2 Data\n",
    "productive_group_a2 = 8 + 8 + 3 + 12 + 10 + 11 \n",
    "productive_news_a2 = 11\n",
    "productivity_ratio_a2 = productive_group_a2 / totalMessages\n",
    "news_ratio_a2 = productive_news_a2 / totalMessages\n",
    "# A_3 Data\n",
    "productive_group_a3 = 18 + 28 + 11 + 23 + 23 + 5 + 13  \n",
    "productive_news_a3 = 12 + 24 \n",
    "productivity_ratio_a3 = productive_group_a3 / totalMessages\n",
    "news_ratio_a3 = productive_news_a3 / totalMessages\n",
    "\n",
    "\n",
    "# Plotting the data\n",
    "plt.plot([\"A0\", \"A1\", \"A2\", \"A3\"], [productivity_ratio_a0, productivity_ratio_a1, productivity_ratio_a2, productivity_ratio_a3], label=\"Direct Productivity\", color=\"#FF6700\")\n",
    "plt.plot([\"A0\", \"A1\", \"A2\", \"A3\"], [news_ratio_a0, news_ratio_a1, news_ratio_a2, news_ratio_a3], label=\"Socially Important Systems Productivity\", color=\"#004E98\")\n",
    "\n",
    "# Adding labels and title\n",
    "plt.title(\"Direct Productivity and S.I.S Productivity per Moderation Group\")\n",
    "plt.xlabel(\"Moderation Group\")\n",
    "plt.ylabel(\"Ratio\")\n",
    "\n",
    "# Adding legend\n",
    "plt.legend()\n",
    "\n",
    "# Make plot wide \n",
    "plt.gcf().set_size_inches(10, 5)\n",
    "# Display the plot\n",
    "plt.savefig('productivity_ratios.png')"
   ]
  },
  {
   "cell_type": "code",
   "execution_count": 11,
   "outputs": [
    {
     "name": "stdout",
     "output_type": "stream",
     "text": [
      "Direct Productivity Ratios\n",
      "A0:  0.0380952380952381\n",
      "A1:  0.24285714285714285\n",
      "A2:  0.24761904761904763\n",
      "A3:  0.5761904761904761\n"
     ]
    }
   ],
   "source": [
    "# Print direct productivity ratios\n",
    "print(\"Direct Productivity Ratios\")\n",
    "print(\"A0: \", productivity_ratio_a0)\n",
    "print(\"A1: \", productivity_ratio_a1)\n",
    "print(\"A2: \", productivity_ratio_a2)\n",
    "print(\"A3: \", productivity_ratio_a3)"
   ],
   "metadata": {
    "collapsed": false,
    "ExecuteTime": {
     "end_time": "2024-05-21T14:12:22.823106Z",
     "start_time": "2024-05-21T14:12:22.814845Z"
    }
   },
   "id": "27d5c54fdac9a474"
  },
  {
   "cell_type": "code",
   "execution_count": 3,
   "outputs": [
    {
     "name": "stdout",
     "output_type": "stream",
     "text": [
      "Congestion Ratios\n",
      "A0:  0.3952380952380952\n",
      "A1:  0.19047619047619047\n",
      "A2:  0.26666666666666666\n",
      "A3:  0.15714285714285714\n"
     ]
    }
   ],
   "source": [
    "# Visualising the congestion per moderation group \n",
    "# Manually counting the one-word or strictly unrelated messages to avoid double counting \n",
    "# A_0 Data\n",
    "congestion_a0 = 31 + 7 + 9 + 4 + 11 + 5 + 7 + 5 + 4 \n",
    "congestion_ratio_a0 = congestion_a0 / totalMessages\n",
    "# A_1 Data\n",
    "congestion_a1 = 1 + 1 + 17 + 1 + 12 + 5 + 3 \n",
    "congestion_ratio_a1 = congestion_a1 / totalMessages\n",
    "# A_2 Data\n",
    "congestion_a2 = 9 + 3 + 3 + 5 + 6 + 2 + 16 + 3 + 6 + 3 \n",
    "congestion_ratio_a2 = congestion_a2 / totalMessages\n",
    "# A_3 Data\n",
    "congestion_a3 = 8 + 6 + 5 + 3 + 2 + 3 + 3 + 2 + 1 \n",
    "congestion_ratio_a3 = congestion_a3 / totalMessages\n",
    "\n",
    "# Printing the congestion ratios\n",
    "print(\"Congestion Ratios\")\n",
    "print(\"A0: \", congestion_ratio_a0)\n",
    "print(\"A1: \", congestion_ratio_a1)\n",
    "print(\"A2: \", congestion_ratio_a2)\n",
    "print(\"A3: \", congestion_ratio_a3)"
   ],
   "metadata": {
    "collapsed": false,
    "ExecuteTime": {
     "end_time": "2024-05-26T13:14:14.145622Z",
     "start_time": "2024-05-26T13:14:14.141352Z"
    }
   },
   "id": "a59fbf4fedf398ef"
  }
 ],
 "metadata": {
  "kernelspec": {
   "display_name": "Python 3",
   "language": "python",
   "name": "python3"
  },
  "language_info": {
   "codemirror_mode": {
    "name": "ipython",
    "version": 2
   },
   "file_extension": ".py",
   "mimetype": "text/x-python",
   "name": "python",
   "nbconvert_exporter": "python",
   "pygments_lexer": "ipython2",
   "version": "2.7.6"
  }
 },
 "nbformat": 4,
 "nbformat_minor": 5
}
