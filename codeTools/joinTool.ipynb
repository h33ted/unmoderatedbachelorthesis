{
 "cells": [
  {
   "cell_type": "code",
   "execution_count": 5,
   "id": "initial_id",
   "metadata": {
    "collapsed": true,
    "ExecuteTime": {
     "end_time": "2024-05-12T11:49:05.784355Z",
     "start_time": "2024-05-12T11:49:05.676044Z"
    }
   },
   "outputs": [],
   "source": [
    "# Join nomoderation and nomoderation2.csv\n",
    "import pandas as pd\n",
    "import numpy as np\n",
    "nomoderation =  pd.read_csv('/Users/george/Desktop/Uni/2023-2024/Thesis/Final Thesis Collection/testCSV/nomoderation.csv')\n",
    "nomoderation2 =  pd.read_csv('/Users/george/Desktop/Uni/2023-2024/Thesis/Final Thesis Collection/testCSV/nomoderation2.csv')\n",
    "\n",
    "nomoderationjoined = pd.concat([nomoderation, nomoderation2], axis=0)\n",
    "nomoderationjoined.to_csv('/Users/george/Desktop/Uni/2023-2024/Thesis/Final Thesis Collection/testCSV/nomoderationjoined.csv')"
   ]
  }
 ],
 "metadata": {
  "kernelspec": {
   "display_name": "Python 3",
   "language": "python",
   "name": "python3"
  },
  "language_info": {
   "codemirror_mode": {
    "name": "ipython",
    "version": 2
   },
   "file_extension": ".py",
   "mimetype": "text/x-python",
   "name": "python",
   "nbconvert_exporter": "python",
   "pygments_lexer": "ipython2",
   "version": "2.7.6"
  }
 },
 "nbformat": 4,
 "nbformat_minor": 5
}
