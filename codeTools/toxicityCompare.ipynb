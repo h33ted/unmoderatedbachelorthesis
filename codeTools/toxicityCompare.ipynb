{
 "cells": [
  {
   "cell_type": "markdown",
   "source": [
    "# Toxicity compare\n",
    "## This is a tool to compare the previously selected distilBERT model with a standard classifier in order to establish the efficacy of the model\n",
    "George Cotea, 2024 "
   ],
   "metadata": {
    "collapsed": false
   },
   "id": "791235ee34814c93"
  },
  {
   "cell_type": "code",
   "execution_count": 1,
   "id": "initial_id",
   "metadata": {
    "collapsed": true,
    "ExecuteTime": {
     "end_time": "2024-05-15T14:00:44.454546Z",
     "start_time": "2024-05-15T14:00:37.386948Z"
    }
   },
   "outputs": [
    {
     "data": {
      "text/plain": "DistilBertForSequenceClassification(\n  (distilbert): DistilBertModel(\n    (embeddings): Embeddings(\n      (word_embeddings): Embedding(119547, 768, padding_idx=0)\n      (position_embeddings): Embedding(512, 768)\n      (LayerNorm): LayerNorm((768,), eps=1e-12, elementwise_affine=True)\n      (dropout): Dropout(p=0.1, inplace=False)\n    )\n    (transformer): Transformer(\n      (layer): ModuleList(\n        (0-5): 6 x TransformerBlock(\n          (attention): MultiHeadSelfAttention(\n            (dropout): Dropout(p=0.1, inplace=False)\n            (q_lin): Linear(in_features=768, out_features=768, bias=True)\n            (k_lin): Linear(in_features=768, out_features=768, bias=True)\n            (v_lin): Linear(in_features=768, out_features=768, bias=True)\n            (out_lin): Linear(in_features=768, out_features=768, bias=True)\n          )\n          (sa_layer_norm): LayerNorm((768,), eps=1e-12, elementwise_affine=True)\n          (ffn): FFN(\n            (dropout): Dropout(p=0.1, inplace=False)\n            (lin1): Linear(in_features=768, out_features=3072, bias=True)\n            (lin2): Linear(in_features=3072, out_features=768, bias=True)\n            (activation): GELUActivation()\n          )\n          (output_layer_norm): LayerNorm((768,), eps=1e-12, elementwise_affine=True)\n        )\n      )\n    )\n  )\n  (pre_classifier): Linear(in_features=768, out_features=768, bias=True)\n  (classifier): Linear(in_features=768, out_features=2, bias=True)\n  (dropout): Dropout(p=0.2, inplace=False)\n)"
     },
     "execution_count": 1,
     "metadata": {},
     "output_type": "execute_result"
    }
   ],
   "source": [
    "# Import pandas, json, random\n",
    "import pandas as pd\n",
    "import json\n",
    "import random\n",
    "from toxicityclassifier import *\n",
    "from transformers import AutoTokenizer, AutoModelForSequenceClassification\n",
    "from torch.nn.functional import softmax\n",
    "import torch\n",
    "\n",
    "\n",
    "# Initialize tokenizer and model\n",
    "model_name = \"citizenlab/distilbert-base-multilingual-cased-toxicity\"\n",
    "tokenizer = AutoTokenizer.from_pretrained(model_name)\n",
    "model = AutoModelForSequenceClassification.from_pretrained(model_name)\n",
    "\n",
    "# Setup MPS device\n",
    "device = torch.device(\"mps\" if torch.backends.mps.is_available() else \"cpu\")\n",
    "model.to(device)"
   ]
  },
  {
   "cell_type": "markdown",
   "source": [
    "## Extracting 5000 samples using Proportional Stratified Sampling\n"
   ],
   "metadata": {
    "collapsed": false
   },
   "id": "e8dda18ea76998f9"
  },
  {
   "cell_type": "code",
   "execution_count": 2,
   "outputs": [
    {
     "data": {
      "text/plain": "            id                                            message\n24306    29269  Not as much. \\nIf you guess correctly, you are...\n11496    60326                         Do your research about it.\n5546     70479  So make sure you don't miss out guys load up y...\n29983    15829                                                 Gm\n19916    34858                                    This is serious\n...        ...                                                ...\n396695  483489                                           actually\n174247  749932                      Wait i till try to get you RD\n791062   27250                    Hold on I'm stuck in the A slot\n732749   93826                                       kernel panic\n802947   13605  i really don't see the purpose of the a90 exis...\n\n[1000 rows x 2 columns]",
      "text/html": "<div>\n<style scoped>\n    .dataframe tbody tr th:only-of-type {\n        vertical-align: middle;\n    }\n\n    .dataframe tbody tr th {\n        vertical-align: top;\n    }\n\n    .dataframe thead th {\n        text-align: right;\n    }\n</style>\n<table border=\"1\" class=\"dataframe\">\n  <thead>\n    <tr style=\"text-align: right;\">\n      <th></th>\n      <th>id</th>\n      <th>message</th>\n    </tr>\n  </thead>\n  <tbody>\n    <tr>\n      <th>24306</th>\n      <td>29269</td>\n      <td>Not as much. \\nIf you guess correctly, you are...</td>\n    </tr>\n    <tr>\n      <th>11496</th>\n      <td>60326</td>\n      <td>Do your research about it.</td>\n    </tr>\n    <tr>\n      <th>5546</th>\n      <td>70479</td>\n      <td>So make sure you don't miss out guys load up y...</td>\n    </tr>\n    <tr>\n      <th>29983</th>\n      <td>15829</td>\n      <td>Gm</td>\n    </tr>\n    <tr>\n      <th>19916</th>\n      <td>34858</td>\n      <td>This is serious</td>\n    </tr>\n    <tr>\n      <th>...</th>\n      <td>...</td>\n      <td>...</td>\n    </tr>\n    <tr>\n      <th>396695</th>\n      <td>483489</td>\n      <td>actually</td>\n    </tr>\n    <tr>\n      <th>174247</th>\n      <td>749932</td>\n      <td>Wait i till try to get you RD</td>\n    </tr>\n    <tr>\n      <th>791062</th>\n      <td>27250</td>\n      <td>Hold on I'm stuck in the A slot</td>\n    </tr>\n    <tr>\n      <th>732749</th>\n      <td>93826</td>\n      <td>kernel panic</td>\n    </tr>\n    <tr>\n      <th>802947</th>\n      <td>13605</td>\n      <td>i really don't see the purpose of the a90 exis...</td>\n    </tr>\n  </tbody>\n</table>\n<p>1000 rows × 2 columns</p>\n</div>"
     },
     "execution_count": 2,
     "metadata": {},
     "output_type": "execute_result"
    }
   ],
   "source": [
    "def calculate_sample_sizes(file_paths, total_sample_size=5000):\n",
    "    # Read each CSV file and calculate the number of messages\n",
    "    message_counts = {stratum: len(pd.read_csv(file_path)) for stratum, file_path in file_paths.items()}\n",
    "    \n",
    "    # Total number of messages\n",
    "    total_messages = sum(message_counts.values())\n",
    "    \n",
    "    # Proportions\n",
    "    proportions = {stratum: count / total_messages for stratum, count in message_counts.items()}\n",
    "    \n",
    "    # Sample sizes for each stratum\n",
    "    sample_sizes = {stratum: round(proportion * total_sample_size) for stratum, proportion in proportions.items()}\n",
    "    \n",
    "    return sample_sizes, message_counts\n",
    "\n",
    "def stratified_sampling(file_paths, sample_sizes):\n",
    "    # Read each CSV file and sample the required number of messages\n",
    "    samples = pd.concat([\n",
    "        pd.read_csv(file_paths[stratum]).sample(n=sample_size, random_state=None)  # Set random_state=None for true random sampling\n",
    "        for stratum, sample_size in sample_sizes.items()\n",
    "    ])\n",
    "    \n",
    "    return samples\n",
    "\n",
    "# File paths for each stratum\n",
    "file_paths = {\n",
    "    'A0': '/Users/george/Desktop/Uni/2023-2024/Thesis/Final Thesis Collection/testCSV/nomoderation2.csv',\n",
    "    'A1': '/Users/george/Desktop/Uni/2023-2024/Thesis/Final Thesis Collection/testCSV/basicmoderation.csv',\n",
    "    'A2': '/Users/george/Desktop/Uni/2023-2024/Thesis/Final Thesis Collection/testCSV/advancedmoderation.csv',\n",
    "    'A3': '/Users/george/Desktop/Uni/2023-2024/Thesis/Final Thesis Collection/testCSV/selection.csv'\n",
    "}\n",
    "\n",
    "# Calculate sample sizes based on the actual number of messages in each CSV file\n",
    "sample_sizes, message_counts = calculate_sample_sizes(file_paths)\n",
    "\n",
    "# Perform stratified sampling\n",
    "samples = stratified_sampling(file_paths, sample_sizes)\n",
    "\n",
    "# Save the samples to a new CSV file \n",
    "output_file_path = '/Users/george/Desktop/Uni/2023-2024/Thesis/Final Thesis Collection/stratifiedSampling/stratified_samples.csv'\n",
    "samples.to_csv(output_file_path, index=False)\n",
    "\n",
    "samples.head(1000)\n"
   ],
   "metadata": {
    "collapsed": false,
    "ExecuteTime": {
     "end_time": "2024-05-15T14:01:03.383026Z",
     "start_time": "2024-05-15T14:01:01.124398Z"
    }
   },
   "id": "4866080a44dc5093"
  },
  {
   "cell_type": "markdown",
   "source": [
    "### Basic Toxicity Keyword Classifier"
   ],
   "metadata": {
    "collapsed": false
   },
   "id": "6f7dbd62587f14e9"
  },
  {
   "cell_type": "code",
   "execution_count": 3,
   "outputs": [],
   "source": [
    "# Load the toxic keywords set\n",
    "def load_toxic_keywords():\n",
    "    return {\n",
    "        'abuse', 'abusive', 'annoying', 'assassin', 'assassinate',\n",
    "        'attack', 'bad', 'banish', 'bastard', 'betray', 'bitch',\n",
    "        'blame', 'break', 'broken', 'bully', 'cancel', 'cheat',\n",
    "        'cunt', 'corrupt', 'crap', 'crazy', 'creep', 'criminal',\n",
    "        'crude', 'cursed', 'damn', 'damned', 'dead', 'dangerous',\n",
    "        'deceive', 'defeat', 'defect', 'destroy', 'distructed',\n",
    "        'detest', 'devil', 'die', 'disgust', 'disgusting', 'dishonest',\n",
    "        'distrust', 'dumb', 'eliminate', 'evil', 'fail', 'fake',\n",
    "        'fuck','fucked', 'fool', 'fraud', 'furious', 'garbage', 'gross',\n",
    "        'harm', 'hate', 'horrible', 'hostile', 'idiot', 'ignorant',\n",
    "        'ignore', 'ill', 'immoral', 'impose', 'inept', 'inferior',\n",
    "        'insane', 'insult', 'jealous', 'jerk', 'kill', 'liar',\n",
    "        'loser', 'lousy', 'mad', 'malicious', 'manipulate',\n",
    "        'mislead', 'monster', 'nasty', 'naughty', 'negative', 'nonsense',\n",
    "        'obnoxious', 'oppress', 'pathetic', 'pervert', 'petty', 'perverted',\n",
    "        'poison', 'poor', 'prejudice', 'pretend', 'prick',\n",
    "        'racist', 'rape', 'ridiculous', 'rotten', 'rude', 'ruin', 'retard', 'retarded'\n",
    "        'savage', 'scam', 'scare', 'scum', 'selfish', 'shit',\n",
    "        'shut up', 'sick', 'shag', 'sinister', 'sucker', 'sod',\n",
    "        'swine', 'stupid', 'suck', 'suffer', 'terrible', 'terror',\n",
    "        'trash', 'trick', 'ugly', 'unfair', 'unhappy', 'unjust',\n",
    "        'uneducated', 'useless', 'vain', 'vicious', 'vile', 'violate',\n",
    "        'violent', 'waste', 'wicked', 'worthless', 'wrong', 'yuck'\n",
    "    }\n",
    "\n",
    "# Function to determine if a text is toxic\n",
    "def is_toxic(text):\n",
    "    toxic_keywords = load_toxic_keywords()\n",
    "    words = set(text.lower().split())\n",
    "    return bool(words.intersection(toxic_keywords))"
   ],
   "metadata": {
    "collapsed": false,
    "ExecuteTime": {
     "end_time": "2024-05-15T14:01:06.469932Z",
     "start_time": "2024-05-15T14:01:06.468096Z"
    }
   },
   "id": "69555db3b8a22820"
  },
  {
   "cell_type": "markdown",
   "source": [
    "##### Applying the classifiers for the sampled dataset"
   ],
   "metadata": {
    "collapsed": false
   },
   "id": "bd5f6ce28975cc2b"
  },
  {
   "cell_type": "code",
   "execution_count": 4,
   "outputs": [
    {
     "data": {
      "text/plain": "Classifying messages:   0%|          | 0/5000 [00:00<?, ?it/s]",
      "application/vnd.jupyter.widget-view+json": {
       "version_major": 2,
       "version_minor": 0,
       "model_id": "4827977d49e94ca49b6854df06594ce4"
      }
     },
     "metadata": {},
     "output_type": "display_data"
    }
   ],
   "source": [
    "# DistilBERT implementation \n",
    "# Adjusted functions for manual inference\n",
    "def classify_text(text, tokenizer, model, device, threshold=2/3):\n",
    "    # Tokenization\n",
    "    encoded_input = tokenizer(text, return_tensors='pt', padding=True, truncation=True, max_length=512)\n",
    "    input_ids = encoded_input['input_ids'].to(device)\n",
    "    attention_mask = encoded_input['attention_mask'].to(device)\n",
    "\n",
    "    # Model inference\n",
    "    with torch.no_grad():\n",
    "        outputs = model(input_ids, attention_mask=attention_mask)\n",
    "        predictions = softmax(outputs.logits, dim=1)\n",
    "\n",
    "    # Handling the output\n",
    "    predictions = predictions.cpu().numpy() # Move to CPU and transform to numpy array\n",
    "    toxic_scores = predictions[:, 0]  \n",
    "    \n",
    "    # Determine classification based on threshold\n",
    "    classification = 'toxic' if toxic_scores.mean() >= threshold else 'not_toxic'\n",
    "    score = toxic_scores.mean()\n",
    "    \n",
    "    return classification, score\n",
    "\n",
    "# Apply classification across DataFrame with progress bar\n",
    "from tqdm.auto import tqdm\n",
    "tqdm.pandas(desc=\"Classifying messages\")\n",
    "\n",
    "# Ensure all messages are strings\n",
    "samples['message'] = samples['message'].astype(str)\n",
    "\n",
    "# Apply the classification function with progress_apply\n",
    "results = samples['message'].progress_apply(lambda x: classify_text(x, tokenizer, model, device))\n",
    "samples['classification'], samples['score'] = zip(*results)"
   ],
   "metadata": {
    "collapsed": false,
    "ExecuteTime": {
     "end_time": "2024-05-15T14:02:23.587133Z",
     "start_time": "2024-05-15T14:01:09.636680Z"
    }
   },
   "id": "1636c64ca0c6c5c1"
  },
  {
   "cell_type": "markdown",
   "source": [
    "Keyword Toxicity Classifier"
   ],
   "metadata": {
    "collapsed": false
   },
   "id": "203c335c9fa0a10e"
  },
  {
   "cell_type": "code",
   "execution_count": 5,
   "outputs": [],
   "source": [
    "# Apply the classic function to each row in the DataFrame\n",
    "samples['keyword_toxicity'] = samples['message'].apply(is_toxic)"
   ],
   "metadata": {
    "collapsed": false,
    "ExecuteTime": {
     "end_time": "2024-05-15T14:02:41.885473Z",
     "start_time": "2024-05-15T14:02:41.884159Z"
    }
   },
   "id": "8f4ac8eb9e43bc5f"
  },
  {
   "cell_type": "code",
   "execution_count": 6,
   "outputs": [],
   "source": [
    "# Save the results to a csv file\n",
    "samples.to_csv('/Users/george/Desktop/Uni/2023-2024/Thesis/Final Thesis Collection/stratifiedSampling/samples_classified.csv')"
   ],
   "metadata": {
    "collapsed": false,
    "ExecuteTime": {
     "end_time": "2024-05-15T14:02:43.886339Z",
     "start_time": "2024-05-15T14:02:43.863603Z"
    }
   },
   "id": "9b894c3257c08e7"
  },
  {
   "cell_type": "markdown",
   "source": [
    "### Comparing the two classifiers and determining the Dissagreement Matrix"
   ],
   "metadata": {
    "collapsed": false
   },
   "id": "8b36148855c4165f"
  },
  {
   "cell_type": "code",
   "execution_count": 35,
   "outputs": [
    {
     "name": "stdout",
     "output_type": "stream",
     "text": [
      "[[4440  225]\n",
      " [ 175  160]]\n"
     ]
    },
    {
     "data": {
      "text/plain": "<Figure size 1000x800 with 1 Axes>",
      "image/png": "[encoded data removed]"
     },
     "metadata": {},
     "output_type": "display_data"
    }
   ],
   "source": [
    "import pandas as pd\n",
    "import matplotlib.pyplot as plt\n",
    "import seaborn as sns\n",
    "from sklearn.metrics import confusion_matrix\n",
    "\n",
    "samples_classified = pd.read_csv('/Users/george/Desktop/Uni/2023-2024/Thesis/Final Thesis Collection/stratifiedSampling/samples_classified.csv')\n",
    "\n",
    "# Prepare the true labels and predicted labels\n",
    "y_true = samples_classified['keyword_toxicity'].apply(lambda x: 1 if x else 0)  # Convert boolean to 0 and 1\n",
    "y_pred = samples_classified['classification'].apply(lambda x: 1 if x == 'toxic' else 0)  # Convert 'toxic'/'not_toxic' to 1/0\n",
    "\n",
    "# Compute the confusion matrix\n",
    "conf_matrix = confusion_matrix(y_true, y_pred)\n",
    "print(conf_matrix)\n",
    "# Plot the confusion matrix with improved formatting\n",
    "plt.figure(figsize=(10, 8))\n",
    "ax = sns.heatmap(conf_matrix, annot=True, fmt='d', cmap='Blues', cbar=False,\n",
    "                 xticklabels=['Not Toxic', 'Toxic'], yticklabels=['Not Toxic', 'Toxic'])\n",
    "plt.xlabel('DistilBERT Classification')\n",
    "plt.ylabel('Keyword Classification')\n",
    "plt.title('Confusion Matrix of Classifiers')\n",
    "\n",
    "plt.show()"
   ],
   "metadata": {
    "collapsed": false,
    "ExecuteTime": {
     "end_time": "2024-05-28T13:16:52.189493Z",
     "start_time": "2024-05-28T13:16:52.115288Z"
    }
   },
   "id": "2452ca0a0c26d367"
  },
  {
   "cell_type": "code",
   "execution_count": 16,
   "outputs": [
    {
     "name": "stdout",
     "output_type": "stream",
     "text": [
      "Disagreement count (DistilBERT toxic, Keyword non-toxic): 225\n",
      "Disagreement count (DistilBERT non-toxic, Keyword toxic): 175\n",
      "Disagreement ratio (DistilBERT toxic, Keyword non-toxic): 0.5844155844155844\n",
      "Disagreement ratio (DistilBERT non-toxic, Keyword toxic): 0.03791982665222102\n"
     ]
    }
   ],
   "source": [
    "# Printing the count and ratio of disagreements\n",
    "# print(f\"Disagreement count (DistilBERT toxic, Keyword non-toxic): {disagreement_distilBERT_toxic_keyword_non_toxic}\")\n",
    "# print(f\"Disagreement count (DistilBERT non-toxic, Keyword toxic): {disagreement_distilBERT_non_toxic_keyword_toxic}\")\n",
    "# print(f\"Disagreement ratio (DistilBERT toxic, Keyword non-toxic): {disagreement_ratio_distilBERT_toxic_keyword_non_toxic}\")\n",
    "# print(f\"Disagreement ratio (DistilBERT non-toxic, Keyword toxic): {disagreement_ratio_distilBERT_non_toxic_keyword_toxic}\")"
   ],
   "metadata": {
    "collapsed": false,
    "ExecuteTime": {
     "end_time": "2024-05-15T14:45:46.859878Z",
     "start_time": "2024-05-15T14:45:46.857526Z"
    }
   },
   "id": "8b10162fe4f59f38"
  }
 ],
 "metadata": {
  "kernelspec": {
   "display_name": "Python 3",
   "language": "python",
   "name": "python3"
  },
  "language_info": {
   "codemirror_mode": {
    "name": "ipython",
    "version": 2
   },
   "file_extension": ".py",
   "mimetype": "text/x-python",
   "name": "python",
   "nbconvert_exporter": "python",
   "pygments_lexer": "ipython2",
   "version": "2.7.6"
  }
 },
 "nbformat": 4,
 "nbformat_minor": 5
}
