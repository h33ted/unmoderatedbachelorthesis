{
 "cells": [
  {
   "cell_type": "markdown",
   "source": [
    "### This code inputs the 'message_id' and outputs the message window (+/- 10 messages) around the 'message_id'\n",
    "\n",
    "George Cotea, 2024"
   ],
   "metadata": {
    "collapsed": false
   },
   "id": "1d81d7f191cbc393"
  },
  {
   "cell_type": "code",
   "execution_count": 22,
   "id": "initial_id",
   "metadata": {
    "collapsed": true,
    "ExecuteTime": {
     "end_time": "2024-05-13T14:19:20.841760Z",
     "start_time": "2024-05-13T14:19:20.791195Z"
    }
   },
   "outputs": [
    {
     "data": {
      "text/plain": "       id                                            message\n40  77272                                     I'm okay buddy\n41  77271                           How are you doing today?\n42  77270                                      Good morning \n43  77269                       Have you been participating?\n44  77268                       Oh, yeah\\nIt's ending today.\n45  77267                          Good morning Brics world?\n46  77266                            Me too\\nI won't miss it\n47  77265               Why did the timing have be so short?\n48  77264                           It's ending today right?\n49  77263                                        Absolutely \n50  77261                                             Great!\n51  77260        Yeah exactly once it end it has already end\n52  77259            I'll make sure I participate this time.\n53  77258                                  Oops. No problem.\n54  77257           This offer shouldn't be something I miss\n55  77256                                  It's ending today\n56  77255              No extension on this particular offer\n57  77254  Maintaining optimism and having faith in the u...\n58  77253                    But will there be an extension?\n59  77252        This is one thing I should be conscious of.\n60  77250                   I don't want to miss this offer.",
      "text/html": "<div>\n<style scoped>\n    .dataframe tbody tr th:only-of-type {\n        vertical-align: middle;\n    }\n\n    .dataframe tbody tr th {\n        vertical-align: top;\n    }\n\n    .dataframe thead th {\n        text-align: right;\n    }\n</style>\n<table border=\"1\" class=\"dataframe\">\n  <thead>\n    <tr style=\"text-align: right;\">\n      <th></th>\n      <th>id</th>\n      <th>message</th>\n    </tr>\n  </thead>\n  <tbody>\n    <tr>\n      <th>40</th>\n      <td>77272</td>\n      <td>I'm okay buddy</td>\n    </tr>\n    <tr>\n      <th>41</th>\n      <td>77271</td>\n      <td>How are you doing today?</td>\n    </tr>\n    <tr>\n      <th>42</th>\n      <td>77270</td>\n      <td>Good morning</td>\n    </tr>\n    <tr>\n      <th>43</th>\n      <td>77269</td>\n      <td>Have you been participating?</td>\n    </tr>\n    <tr>\n      <th>44</th>\n      <td>77268</td>\n      <td>Oh, yeah\\nIt's ending today.</td>\n    </tr>\n    <tr>\n      <th>45</th>\n      <td>77267</td>\n      <td>Good morning Brics world?</td>\n    </tr>\n    <tr>\n      <th>46</th>\n      <td>77266</td>\n      <td>Me too\\nI won't miss it</td>\n    </tr>\n    <tr>\n      <th>47</th>\n      <td>77265</td>\n      <td>Why did the timing have be so short?</td>\n    </tr>\n    <tr>\n      <th>48</th>\n      <td>77264</td>\n      <td>It's ending today right?</td>\n    </tr>\n    <tr>\n      <th>49</th>\n      <td>77263</td>\n      <td>Absolutely</td>\n    </tr>\n    <tr>\n      <th>50</th>\n      <td>77261</td>\n      <td>Great!</td>\n    </tr>\n    <tr>\n      <th>51</th>\n      <td>77260</td>\n      <td>Yeah exactly once it end it has already end</td>\n    </tr>\n    <tr>\n      <th>52</th>\n      <td>77259</td>\n      <td>I'll make sure I participate this time.</td>\n    </tr>\n    <tr>\n      <th>53</th>\n      <td>77258</td>\n      <td>Oops. No problem.</td>\n    </tr>\n    <tr>\n      <th>54</th>\n      <td>77257</td>\n      <td>This offer shouldn't be something I miss</td>\n    </tr>\n    <tr>\n      <th>55</th>\n      <td>77256</td>\n      <td>It's ending today</td>\n    </tr>\n    <tr>\n      <th>56</th>\n      <td>77255</td>\n      <td>No extension on this particular offer</td>\n    </tr>\n    <tr>\n      <th>57</th>\n      <td>77254</td>\n      <td>Maintaining optimism and having faith in the u...</td>\n    </tr>\n    <tr>\n      <th>58</th>\n      <td>77253</td>\n      <td>But will there be an extension?</td>\n    </tr>\n    <tr>\n      <th>59</th>\n      <td>77252</td>\n      <td>This is one thing I should be conscious of.</td>\n    </tr>\n    <tr>\n      <th>60</th>\n      <td>77250</td>\n      <td>I don't want to miss this offer.</td>\n    </tr>\n  </tbody>\n</table>\n</div>"
     },
     "execution_count": 22,
     "metadata": {},
     "output_type": "execute_result"
    }
   ],
   "source": [
    "# Importing the necessary libraries\n",
    "import pandas as pd\n",
    "import numpy as np\n",
    "\n",
    "# Importing the dataset\n",
    "data = pd.read_csv('/Users/george/Desktop/Uni/2023-2024/Thesis/Final Thesis Collection/distilClassified/nomoderation2toxicity.csv') # File path to the dataset (in this case A1) \n",
    "\n",
    "# Defining the function (with dropping all columns except 'id' and 'message') without index\n",
    "def message_window(message_id):\n",
    "    message_id = int(message_id)\n",
    "    message_index = data[data['id'] == message_id].index[0]\n",
    "    message_window = data.iloc[message_index-10:message_index+11]\n",
    "    message_window = message_window[['id', 'message']] \n",
    "    return message_window\n",
    "\n",
    "# Testing the function \n",
    "message_window(77261) # Input the 'message_id' here"
   ]
  }
 ],
 "metadata": {
  "kernelspec": {
   "display_name": "Python 3",
   "language": "python",
   "name": "python3"
  },
  "language_info": {
   "codemirror_mode": {
    "name": "ipython",
    "version": 2
   },
   "file_extension": ".py",
   "mimetype": "text/x-python",
   "name": "python",
   "nbconvert_exporter": "python",
   "pygments_lexer": "ipython2",
   "version": "2.7.6"
  }
 },
 "nbformat": 4,
 "nbformat_minor": 5
}
